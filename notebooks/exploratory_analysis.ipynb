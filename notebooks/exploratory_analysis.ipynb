{
 "cells": [
  {
   "cell_type": "markdown",
   "metadata": {},
   "source": [
    "# Exploratory Data Analysis (EDA) on Animal Shelter Outcomes\n",
    "\n",
    "This notebook is used for performing exploratory data analysis on the training dataset of animal shelter outcomes. The goal is to understand the distribution of the outcome types and other features."
   ]
  },
  {
   "cell_type": "markdown",
   "metadata": {},
   "source": [
    "<h4>Enter your computer's home firectory</h4>"
   ]
  },
  {
   "cell_type": "code",
   "execution_count": 1,
   "metadata": {},
   "outputs": [],
   "source": [
    "home_dir = r\"/Users/shreya/Github/Shelter-Animal-Outcomes-by-kaggle.com\""
   ]
  },
  {
   "cell_type": "markdown",
   "metadata": {},
   "source": [
    "## Import required modules"
   ]
  },
  {
   "cell_type": "code",
   "execution_count": 2,
   "metadata": {
    "collapsed": false
   },
   "outputs": [],
   "source": [
    "import sys\n",
    "import pandas as pd\n",
    "import matplotlib.pyplot as plt\n",
    "import seaborn as sns\n",
    "\n",
    "sys.path.append(home_dir + r\"/src\")\n",
    "import data_processing\n",
    "\n",
    "# Set the aesthetic style of the plots\n",
    "sns.set_style('whitegrid')"
   ]
  },
  {
   "cell_type": "markdown",
   "metadata": {},
   "source": [
    "## Load Training dataset"
   ]
  },
  {
   "cell_type": "code",
   "execution_count": 3,
   "metadata": {
    "collapsed": false
   },
   "outputs": [
    {
     "name": "stdout",
     "output_type": "stream",
     "text": [
      "\tAge information processed in: 0.02 seconds\n",
      "\tSex information processed in: 0.06 seconds\n",
      "\tBreed information processed in: 0.38 seconds\n",
      "\tCoat information processed in: 3.11 seconds\n"
     ]
    },
    {
     "data": {
      "application/vnd.microsoft.datawrangler.viewer.v0+json": {
       "columns": [
        {
         "name": "index",
         "rawType": "int64",
         "type": "integer"
        },
        {
         "name": "AnimalID",
         "rawType": "object",
         "type": "string"
        },
        {
         "name": "OutcomeType",
         "rawType": "object",
         "type": "string"
        },
        {
         "name": "Name",
         "rawType": "object",
         "type": "string"
        },
        {
         "name": "DateTime",
         "rawType": "object",
         "type": "string"
        },
        {
         "name": "AnimalType",
         "rawType": "object",
         "type": "string"
        },
        {
         "name": "AgeuponOutcome",
         "rawType": "object",
         "type": "string"
        },
        {
         "name": "SexuponOutcome",
         "rawType": "object",
         "type": "string"
        },
        {
         "name": "Sterilization",
         "rawType": "object",
         "type": "string"
        },
        {
         "name": "BreedType",
         "rawType": "object",
         "type": "string"
        },
        {
         "name": "Mix",
         "rawType": "object",
         "type": "string"
        },
        {
         "name": "CoatColor",
         "rawType": "object",
         "type": "string"
        },
        {
         "name": "CoatPattern",
         "rawType": "object",
         "type": "unknown"
        }
       ],
       "conversionMethod": "pd.DataFrame",
       "ref": "f6634b3d-6b7d-4e7b-8183-1f88a1590808",
       "rows": [
        [
         "0",
         "A006100",
         "Return_to_owner",
         "Scamp",
         "2014-12-20 16:35:00",
         "Dog",
         "<10 years",
         "Male",
         "Sterilized",
         "Sporting",
         "Pure breed",
         "Yellow",
         null
        ],
        [
         "1",
         "A006100",
         "Return_to_owner",
         "Scamp",
         "2014-12-20 16:35:00",
         "Dog",
         "<10 years",
         "Male",
         "Sterilized",
         "Sporting",
         "Pure breed",
         "White",
         null
        ],
        [
         "2",
         "A047759",
         "Transfer",
         "Oreo",
         "2014-04-07 15:12:00",
         "Dog",
         "<15 years",
         "Male",
         "Sterilized",
         "Hound",
         "Pure breed",
         "Tricolor",
         null
        ],
        [
         "3",
         "A134067",
         "Return_to_owner",
         "Bandit",
         "2013-11-16 11:54:00",
         "Dog",
         "15+ years",
         "Male",
         "Sterilized",
         "Herding",
         "Pure breed",
         "Brown",
         null
        ],
        [
         "4",
         "A134067",
         "Return_to_owner",
         "Bandit",
         "2013-11-16 11:54:00",
         "Dog",
         "15+ years",
         "Male",
         "Sterilized",
         "Herding",
         "Pure breed",
         "White",
         null
        ]
       ],
       "shape": {
        "columns": 12,
        "rows": 5
       }
      },
      "text/html": [
       "<div>\n",
       "<style scoped>\n",
       "    .dataframe tbody tr th:only-of-type {\n",
       "        vertical-align: middle;\n",
       "    }\n",
       "\n",
       "    .dataframe tbody tr th {\n",
       "        vertical-align: top;\n",
       "    }\n",
       "\n",
       "    .dataframe thead th {\n",
       "        text-align: right;\n",
       "    }\n",
       "</style>\n",
       "<table border=\"1\" class=\"dataframe\">\n",
       "  <thead>\n",
       "    <tr style=\"text-align: right;\">\n",
       "      <th></th>\n",
       "      <th>AnimalID</th>\n",
       "      <th>OutcomeType</th>\n",
       "      <th>Name</th>\n",
       "      <th>DateTime</th>\n",
       "      <th>AnimalType</th>\n",
       "      <th>AgeuponOutcome</th>\n",
       "      <th>SexuponOutcome</th>\n",
       "      <th>Sterilization</th>\n",
       "      <th>BreedType</th>\n",
       "      <th>Mix</th>\n",
       "      <th>CoatColor</th>\n",
       "      <th>CoatPattern</th>\n",
       "    </tr>\n",
       "  </thead>\n",
       "  <tbody>\n",
       "    <tr>\n",
       "      <th>0</th>\n",
       "      <td>A006100</td>\n",
       "      <td>Return_to_owner</td>\n",
       "      <td>Scamp</td>\n",
       "      <td>2014-12-20 16:35:00</td>\n",
       "      <td>Dog</td>\n",
       "      <td>&lt;10 years</td>\n",
       "      <td>Male</td>\n",
       "      <td>Sterilized</td>\n",
       "      <td>Sporting</td>\n",
       "      <td>Pure breed</td>\n",
       "      <td>Yellow</td>\n",
       "      <td>NaN</td>\n",
       "    </tr>\n",
       "    <tr>\n",
       "      <th>1</th>\n",
       "      <td>A006100</td>\n",
       "      <td>Return_to_owner</td>\n",
       "      <td>Scamp</td>\n",
       "      <td>2014-12-20 16:35:00</td>\n",
       "      <td>Dog</td>\n",
       "      <td>&lt;10 years</td>\n",
       "      <td>Male</td>\n",
       "      <td>Sterilized</td>\n",
       "      <td>Sporting</td>\n",
       "      <td>Pure breed</td>\n",
       "      <td>White</td>\n",
       "      <td>NaN</td>\n",
       "    </tr>\n",
       "    <tr>\n",
       "      <th>2</th>\n",
       "      <td>A047759</td>\n",
       "      <td>Transfer</td>\n",
       "      <td>Oreo</td>\n",
       "      <td>2014-04-07 15:12:00</td>\n",
       "      <td>Dog</td>\n",
       "      <td>&lt;15 years</td>\n",
       "      <td>Male</td>\n",
       "      <td>Sterilized</td>\n",
       "      <td>Hound</td>\n",
       "      <td>Pure breed</td>\n",
       "      <td>Tricolor</td>\n",
       "      <td>NaN</td>\n",
       "    </tr>\n",
       "    <tr>\n",
       "      <th>3</th>\n",
       "      <td>A134067</td>\n",
       "      <td>Return_to_owner</td>\n",
       "      <td>Bandit</td>\n",
       "      <td>2013-11-16 11:54:00</td>\n",
       "      <td>Dog</td>\n",
       "      <td>15+ years</td>\n",
       "      <td>Male</td>\n",
       "      <td>Sterilized</td>\n",
       "      <td>Herding</td>\n",
       "      <td>Pure breed</td>\n",
       "      <td>Brown</td>\n",
       "      <td>NaN</td>\n",
       "    </tr>\n",
       "    <tr>\n",
       "      <th>4</th>\n",
       "      <td>A134067</td>\n",
       "      <td>Return_to_owner</td>\n",
       "      <td>Bandit</td>\n",
       "      <td>2013-11-16 11:54:00</td>\n",
       "      <td>Dog</td>\n",
       "      <td>15+ years</td>\n",
       "      <td>Male</td>\n",
       "      <td>Sterilized</td>\n",
       "      <td>Herding</td>\n",
       "      <td>Pure breed</td>\n",
       "      <td>White</td>\n",
       "      <td>NaN</td>\n",
       "    </tr>\n",
       "  </tbody>\n",
       "</table>\n",
       "</div>"
      ],
      "text/plain": [
       "  AnimalID      OutcomeType    Name             DateTime AnimalType  \\\n",
       "0  A006100  Return_to_owner   Scamp  2014-12-20 16:35:00        Dog   \n",
       "1  A006100  Return_to_owner   Scamp  2014-12-20 16:35:00        Dog   \n",
       "2  A047759         Transfer    Oreo  2014-04-07 15:12:00        Dog   \n",
       "3  A134067  Return_to_owner  Bandit  2013-11-16 11:54:00        Dog   \n",
       "4  A134067  Return_to_owner  Bandit  2013-11-16 11:54:00        Dog   \n",
       "\n",
       "  AgeuponOutcome SexuponOutcome Sterilization BreedType         Mix CoatColor  \\\n",
       "0      <10 years           Male    Sterilized  Sporting  Pure breed    Yellow   \n",
       "1      <10 years           Male    Sterilized  Sporting  Pure breed     White   \n",
       "2      <15 years           Male    Sterilized     Hound  Pure breed  Tricolor   \n",
       "3      15+ years           Male    Sterilized   Herding  Pure breed     Brown   \n",
       "4      15+ years           Male    Sterilized   Herding  Pure breed     White   \n",
       "\n",
       "  CoatPattern  \n",
       "0         NaN  \n",
       "1         NaN  \n",
       "2         NaN  \n",
       "3         NaN  \n",
       "4         NaN  "
      ]
     },
     "execution_count": 3,
     "metadata": {},
     "output_type": "execute_result"
    }
   ],
   "source": [
    "# Load and process training dataset\n",
    "train_df = data_processing.process_data(\n",
    "    home_dir=home_dir,\n",
    "    data_file=r\"train\",\n",
    "    AnimalID=r\"AnimalID\",\n",
    "    dep_var=r\"OutcomeType\"\n",
    ")\n",
    "\n",
    "# Display the first few rows of the dataset\n",
    "train_df.head()"
   ]
  },
  {
   "cell_type": "markdown",
   "metadata": {},
   "source": [
    "## Visualizations"
   ]
  },
  {
   "cell_type": "markdown",
   "metadata": {},
   "source": [
    "### OutcomeType"
   ]
  },
  {
   "cell_type": "code",
   "execution_count": 7,
   "metadata": {
    "collapsed": false
   },
   "outputs": [
    {
     "name": "stderr",
     "output_type": "stream",
     "text": [
      "/var/folders/p_/g0qsnc197lz2txd7nf0s0btr0000gp/T/ipykernel_97733/3737122949.py:3: FutureWarning: \n",
      "\n",
      "Passing `palette` without assigning `hue` is deprecated and will be removed in v0.14.0. Assign the `x` variable to `hue` and set `legend=False` for the same effect.\n",
      "\n",
      "  sns.countplot(data=train_df, x='OutcomeType', palette='Set2')\n"
     ]
    },
    {
     "data": {
      "image/png": "[encoded data removed]",
      "text/plain": [
       "<Figure size 1000x600 with 1 Axes>"
      ]
     },
     "metadata": {},
     "output_type": "display_data"
    }
   ],
   "source": [
    "# Visualize the distribution of OutcomeType\n",
    "plt.figure(figsize=(10, 6))\n",
    "sns.countplot(data=train_df, x='OutcomeType', palette='Set2')\n",
    "plt.title('Distribution of Outcome Types')\n",
    "plt.xlabel('Outcome Type')\n",
    "plt.ylabel('Count')\n",
    "plt.xticks(rotation=45)\n",
    "plt.show()"
   ]
  },
  {
   "cell_type": "code",
   "execution_count": 11,
   "metadata": {
    "collapsed": false
   },
   "outputs": [
    {
     "name": "stderr",
     "output_type": "stream",
     "text": [
      "/var/folders/p_/g0qsnc197lz2txd7nf0s0btr0000gp/T/ipykernel_97733/2956269440.py:10: FutureWarning: \n",
      "\n",
      "Passing `palette` without assigning `hue` is deprecated and will be removed in v0.14.0. Assign the `x` variable to `hue` and set `legend=False` for the same effect.\n",
      "\n",
      "  sns.countplot(data=train_df, x='AgeuponOutcome', palette='Set2', order=age_order)\n"
     ]
    },
    {
     "data": {
      "image/png": "[encoded data removed]",
      "text/plain": [
       "<Figure size 1000x600 with 1 Axes>"
      ]
     },
     "metadata": {},
     "output_type": "display_data"
    }
   ],
   "source": [
    "# Visualize the distribution of AgeuponOutcome\n",
    "\n",
    "age_order = [\n",
    "    r\"<1 week\", r\"<1 month\", r\"<6 months\",\n",
    "    r\"<1 year\", r\"<5 years\", r\"<10 years\",\n",
    "    r\"<15 years\", r\"15+ years\"\n",
    "]\n",
    "\n",
    "plt.figure(figsize=(10, 6))\n",
    "sns.countplot(data=train_df, x='AgeuponOutcome', palette='Set2', order=age_order)\n",
    "plt.title('Distribution of Age upon Outcome')\n",
    "plt.xlabel('Age Group')\n",
    "plt.ylabel('Count')\n",
    "plt.xticks(rotation=45)\n",
    "plt.show()"
   ]
  },
  {
   "cell_type": "code",
   "execution_count": null,
   "metadata": {
    "collapsed": false
   },
   "outputs": [
    {
     "ename": "KeyError",
     "evalue": "'Breed'",
     "output_type": "error",
     "traceback": [
      "\u001b[0;31m---------------------------------------------------------------------------\u001b[0m",
      "\u001b[0;31mKeyError\u001b[0m                                  Traceback (most recent call last)",
      "File \u001b[0;32m/Library/Frameworks/Python.framework/Versions/3.11/lib/python3.11/site-packages/pandas/core/indexes/base.py:3805\u001b[0m, in \u001b[0;36mIndex.get_loc\u001b[0;34m(self, key)\u001b[0m\n\u001b[1;32m   3804\u001b[0m \u001b[38;5;28;01mtry\u001b[39;00m:\n\u001b[0;32m-> 3805\u001b[0m     \u001b[38;5;28;01mreturn\u001b[39;00m \u001b[38;5;28;43mself\u001b[39;49m\u001b[38;5;241;43m.\u001b[39;49m\u001b[43m_engine\u001b[49m\u001b[38;5;241;43m.\u001b[39;49m\u001b[43mget_loc\u001b[49m\u001b[43m(\u001b[49m\u001b[43mcasted_key\u001b[49m\u001b[43m)\u001b[49m\n\u001b[1;32m   3806\u001b[0m \u001b[38;5;28;01mexcept\u001b[39;00m \u001b[38;5;167;01mKeyError\u001b[39;00m \u001b[38;5;28;01mas\u001b[39;00m err:\n",
      "File \u001b[0;32mindex.pyx:167\u001b[0m, in \u001b[0;36mpandas._libs.index.IndexEngine.get_loc\u001b[0;34m()\u001b[0m\n",
      "File \u001b[0;32mindex.pyx:196\u001b[0m, in \u001b[0;36mpandas._libs.index.IndexEngine.get_loc\u001b[0;34m()\u001b[0m\n",
      "File \u001b[0;32mpandas/_libs/hashtable_class_helper.pxi:7081\u001b[0m, in \u001b[0;36mpandas._libs.hashtable.PyObjectHashTable.get_item\u001b[0;34m()\u001b[0m\n",
      "File \u001b[0;32mpandas/_libs/hashtable_class_helper.pxi:7089\u001b[0m, in \u001b[0;36mpandas._libs.hashtable.PyObjectHashTable.get_item\u001b[0;34m()\u001b[0m\n",
      "\u001b[0;31mKeyError\u001b[0m: 'Breed'",
      "\nThe above exception was the direct cause of the following exception:\n",
      "\u001b[0;31mKeyError\u001b[0m                                  Traceback (most recent call last)",
      "Cell \u001b[0;32mIn[10], line 3\u001b[0m\n\u001b[1;32m      1\u001b[0m \u001b[38;5;66;03m# Visualize the distribution of breeds\u001b[39;00m\n\u001b[1;32m      2\u001b[0m plt\u001b[38;5;241m.\u001b[39mfigure(figsize\u001b[38;5;241m=\u001b[39m(\u001b[38;5;241m15\u001b[39m, \u001b[38;5;241m8\u001b[39m))\n\u001b[0;32m----> 3\u001b[0m top_breeds \u001b[38;5;241m=\u001b[39m \u001b[43mtrain_df\u001b[49m\u001b[43m[\u001b[49m\u001b[38;5;124;43m'\u001b[39;49m\u001b[38;5;124;43mBreed\u001b[39;49m\u001b[38;5;124;43m'\u001b[39;49m\u001b[43m]\u001b[49m\u001b[38;5;241m.\u001b[39mvalue_counts()\u001b[38;5;241m.\u001b[39mnlargest(\u001b[38;5;241m10\u001b[39m)\n\u001b[1;32m      4\u001b[0m sns\u001b[38;5;241m.\u001b[39mbarplot(x\u001b[38;5;241m=\u001b[39mtop_breeds\u001b[38;5;241m.\u001b[39mindex, y\u001b[38;5;241m=\u001b[39mtop_breeds\u001b[38;5;241m.\u001b[39mvalues, palette\u001b[38;5;241m=\u001b[39m\u001b[38;5;124m'\u001b[39m\u001b[38;5;124mSet2\u001b[39m\u001b[38;5;124m'\u001b[39m)\n\u001b[1;32m      5\u001b[0m plt\u001b[38;5;241m.\u001b[39mtitle(\u001b[38;5;124m'\u001b[39m\u001b[38;5;124mTop 10 Breeds in the Dataset\u001b[39m\u001b[38;5;124m'\u001b[39m)\n",
      "File \u001b[0;32m/Library/Frameworks/Python.framework/Versions/3.11/lib/python3.11/site-packages/pandas/core/frame.py:4102\u001b[0m, in \u001b[0;36mDataFrame.__getitem__\u001b[0;34m(self, key)\u001b[0m\n\u001b[1;32m   4100\u001b[0m \u001b[38;5;28;01mif\u001b[39;00m \u001b[38;5;28mself\u001b[39m\u001b[38;5;241m.\u001b[39mcolumns\u001b[38;5;241m.\u001b[39mnlevels \u001b[38;5;241m>\u001b[39m \u001b[38;5;241m1\u001b[39m:\n\u001b[1;32m   4101\u001b[0m     \u001b[38;5;28;01mreturn\u001b[39;00m \u001b[38;5;28mself\u001b[39m\u001b[38;5;241m.\u001b[39m_getitem_multilevel(key)\n\u001b[0;32m-> 4102\u001b[0m indexer \u001b[38;5;241m=\u001b[39m \u001b[38;5;28;43mself\u001b[39;49m\u001b[38;5;241;43m.\u001b[39;49m\u001b[43mcolumns\u001b[49m\u001b[38;5;241;43m.\u001b[39;49m\u001b[43mget_loc\u001b[49m\u001b[43m(\u001b[49m\u001b[43mkey\u001b[49m\u001b[43m)\u001b[49m\n\u001b[1;32m   4103\u001b[0m \u001b[38;5;28;01mif\u001b[39;00m is_integer(indexer):\n\u001b[1;32m   4104\u001b[0m     indexer \u001b[38;5;241m=\u001b[39m [indexer]\n",
      "File \u001b[0;32m/Library/Frameworks/Python.framework/Versions/3.11/lib/python3.11/site-packages/pandas/core/indexes/base.py:3812\u001b[0m, in \u001b[0;36mIndex.get_loc\u001b[0;34m(self, key)\u001b[0m\n\u001b[1;32m   3807\u001b[0m     \u001b[38;5;28;01mif\u001b[39;00m \u001b[38;5;28misinstance\u001b[39m(casted_key, \u001b[38;5;28mslice\u001b[39m) \u001b[38;5;129;01mor\u001b[39;00m (\n\u001b[1;32m   3808\u001b[0m         \u001b[38;5;28misinstance\u001b[39m(casted_key, abc\u001b[38;5;241m.\u001b[39mIterable)\n\u001b[1;32m   3809\u001b[0m         \u001b[38;5;129;01mand\u001b[39;00m \u001b[38;5;28many\u001b[39m(\u001b[38;5;28misinstance\u001b[39m(x, \u001b[38;5;28mslice\u001b[39m) \u001b[38;5;28;01mfor\u001b[39;00m x \u001b[38;5;129;01min\u001b[39;00m casted_key)\n\u001b[1;32m   3810\u001b[0m     ):\n\u001b[1;32m   3811\u001b[0m         \u001b[38;5;28;01mraise\u001b[39;00m InvalidIndexError(key)\n\u001b[0;32m-> 3812\u001b[0m     \u001b[38;5;28;01mraise\u001b[39;00m \u001b[38;5;167;01mKeyError\u001b[39;00m(key) \u001b[38;5;28;01mfrom\u001b[39;00m \u001b[38;5;21;01merr\u001b[39;00m\n\u001b[1;32m   3813\u001b[0m \u001b[38;5;28;01mexcept\u001b[39;00m \u001b[38;5;167;01mTypeError\u001b[39;00m:\n\u001b[1;32m   3814\u001b[0m     \u001b[38;5;66;03m# If we have a listlike key, _check_indexing_error will raise\u001b[39;00m\n\u001b[1;32m   3815\u001b[0m     \u001b[38;5;66;03m#  InvalidIndexError. Otherwise we fall through and re-raise\u001b[39;00m\n\u001b[1;32m   3816\u001b[0m     \u001b[38;5;66;03m#  the TypeError.\u001b[39;00m\n\u001b[1;32m   3817\u001b[0m     \u001b[38;5;28mself\u001b[39m\u001b[38;5;241m.\u001b[39m_check_indexing_error(key)\n",
      "\u001b[0;31mKeyError\u001b[0m: 'Breed'"
     ]
    },
    {
     "data": {
      "text/plain": [
       "<Figure size 1500x800 with 0 Axes>"
      ]
     },
     "metadata": {},
     "output_type": "display_data"
    }
   ],
   "source": [
    "# Visualize the distribution of breeds\n",
    "plt.figure(figsize=(15, 8))\n",
    "top_breeds = train_data['Breed'].value_counts().nlargest(10)\n",
    "sns.barplot(x=top_breeds.index, y=top_breeds.values, palette='Set2')\n",
    "plt.title('Top 10 Breeds in the Dataset')\n",
    "plt.xlabel('Breed')\n",
    "plt.ylabel('Count')\n",
    "plt.xticks(rotation=45)\n",
    "plt.show()"
   ]
  },
  {
   "cell_type": "markdown",
   "metadata": {},
   "source": [
    "## Conclusion\n",
    "\n",
    "This exploratory analysis provides insights into the distribution of outcome types, age upon outcome, and the most common breeds in the dataset. Further analysis and feature engineering will be necessary to prepare the data for modeling."
   ]
  }
 ],
 "metadata": {
  "kernelspec": {
   "display_name": "Python 3",
   "language": "python",
   "name": "python3"
  },
  "language_info": {
   "codemirror_mode": {
    "name": "ipython",
    "version": 3
   },
   "file_extension": ".py",
   "mimetype": "text/x-python",
   "name": "python",
   "nbconvert_exporter": "python",
   "pygments_lexer": "ipython3",
   "version": "3.11.7"
  }
 },
 "nbformat": 4,
 "nbformat_minor": 4
}
