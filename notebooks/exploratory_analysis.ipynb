{
 "cells": [
  {
   "cell_type": "markdown",
   "metadata": {},
   "source": [
    "# Exploratory Data Analysis (EDA) on Animal Shelter Outcomes\n",
    "\n",
    "This notebook is used for performing exploratory data analysis on the training dataset of animal shelter outcomes. The goal is to understand the distribution of the outcome types and other features."
   ]
  },
  {
   "cell_type": "code",
   "execution_count": null,
   "metadata": {
    "collapsed": false
   },
   "outputs": [],
   "source": [
    "import pandas as pd\n",
    "import matplotlib.pyplot as plt\n",
    "import seaborn as sns\n",
    "\n",
    "# Set the aesthetic style of the plots\n",
    "sns.set_style('whitegrid')"
   ]
  },
  {
   "cell_type": "code",
   "execution_count": null,
   "metadata": {
    "collapsed": false
   },
   "outputs": [],
   "source": [
    "# Load the training dataset\n",
    "train_data = pd.read_csv('../data/train.csv')\n",
    "\n",
    "# Display the first few rows of the dataset\n",
    "train_data.head()"
   ]
  },
  {
   "cell_type": "code",
   "execution_count": null,
   "metadata": {
    "collapsed": false
   },
   "outputs": [],
   "source": [
    "# Summary statistics of the dataset\n",
    "train_data.describe(include='all')"
   ]
  },
  {
   "cell_type": "code",
   "execution_count": null,
   "metadata": {
    "collapsed": false
   },
   "outputs": [],
   "source": [
    "# Check for missing values\n",
    "missing_values = train_data.isnull().sum()\n",
    "missing_values[missing_values > 0]"
   ]
  },
  {
   "cell_type": "code",
   "execution_count": null,
   "metadata": {
    "collapsed": false
   },
   "outputs": [],
   "source": [
    "# Visualize the distribution of OutcomeType\n",
    "plt.figure(figsize=(10, 6))\n",
    "sns.countplot(data=train_data, x='OutcomeType', palette='Set2')\n",
    "plt.title('Distribution of Outcome Types')\n",
    "plt.xlabel('Outcome Type')\n",
    "plt.ylabel('Count')\n",
    "plt.xticks(rotation=45)\n",
    "plt.show()"
   ]
  },
  {
   "cell_type": "code",
   "execution_count": null,
   "metadata": {
    "collapsed": false
   },
   "outputs": [],
   "source": [
    "# Visualize the relationship between AgeuponOutcome and OutcomeType\n",
    "plt.figure(figsize=(12, 6))\n",
    "sns.boxplot(data=train_data, x='OutcomeType', y='AgeuponOutcome', palette='Set2')\n",
    "plt.title('Age upon Outcome by Outcome Type')\n",
    "plt.xlabel('Outcome Type')\n",
    "plt.ylabel('Age upon Outcome')\n",
    "plt.xticks(rotation=45)\n",
    "plt.show()"
   ]
  },
  {
   "cell_type": "code",
   "execution_count": null,
   "metadata": {
    "collapsed": false
   },
   "outputs": [],
   "source": [
    "# Visualize the distribution of breeds\n",
    "plt.figure(figsize=(15, 8))\n",
    "top_breeds = train_data['Breed'].value_counts().nlargest(10)\n",
    "sns.barplot(x=top_breeds.index, y=top_breeds.values, palette='Set2')\n",
    "plt.title('Top 10 Breeds in the Dataset')\n",
    "plt.xlabel('Breed')\n",
    "plt.ylabel('Count')\n",
    "plt.xticks(rotation=45)\n",
    "plt.show()"
   ]
  },
  {
   "cell_type": "markdown",
   "metadata": {},
   "source": [
    "## Conclusion\n",
    "\n",
    "This exploratory analysis provides insights into the distribution of outcome types, age upon outcome, and the most common breeds in the dataset. Further analysis and feature engineering will be necessary to prepare the data for modeling."
   ]
  }
 ],
 "metadata": {
  "kernelspec": {
   "display_name": "Python 3",
   "language": "python",
   "name": "python3"
  },
  "language_info": {
   "codemirror_mode": {
    "name": "ipython",
    "version": 3
   },
   "file_extension": ".py",
   "mimetype": "text/x-python",
   "name": "python",
   "nbconvert_exporter": "python",
   "pygments_lexer": "ipython3",
   "version": "3.8.5"
  }
 },
 "nbformat": 4,
 "nbformat_minor": 4
}