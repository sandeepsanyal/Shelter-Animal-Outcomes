{
 "cells": [
  {
   "cell_type": "markdown",
   "metadata": {},
   "source": [
    "# Exploratory Data Analysis (EDA) on Animal Shelter Outcomes\n",
    "\n",
    "This notebook is used for performing exploratory data analysis on the training dataset of animal shelter outcomes. The goal is to understand the distribution of the outcome types and other features."
   ]
  },
  {
   "cell_type": "markdown",
   "metadata": {},
   "source": [
    "<h4>Enter your computer's home directory</h4>"
   ]
  },
  {
   "cell_type": "code",
   "execution_count": null,
   "metadata": {},
   "outputs": [],
   "source": [
    "home_dir = r\"/Users/wrngnfreeman/Github/Shelter-Animal-Outcomes\""
   ]
  },
  {
   "cell_type": "markdown",
   "metadata": {},
   "source": [
    "#### Import required modules"
   ]
  },
  {
   "cell_type": "code",
   "execution_count": 1,
   "metadata": {
    "collapsed": false
   },
   "outputs": [],
   "source": [
    "import os\n",
    "import sys\n",
    "import random\n",
    "import pandas as pd\n",
    "\n",
    "project_name = r\"Shelter-Animal-Outcomes\"\n",
    "workspace_folder = os.path.abspath(\"\").split(project_name)[0] + project_name\n",
    "\n",
    "sys.path.insert(0, workspace_folder + r\"/src\")\n",
    "import data_processing, viz"
   ]
  },
  {
   "cell_type": "markdown",
   "metadata": {},
   "source": [
    "## Load datasets"
   ]
  },
  {
   "cell_type": "code",
   "execution_count": 2,
   "metadata": {
    "collapsed": false
   },
   "outputs": [
    {
     "ename": "KeyError",
     "evalue": "'Animal ID'",
     "output_type": "error",
     "traceback": [
      "\u001b[31m---------------------------------------------------------------------------\u001b[39m",
      "\u001b[31mKeyError\u001b[39m                                  Traceback (most recent call last)",
      "\u001b[36mFile \u001b[39m\u001b[32m~/Github/Shelter-Animal-Outcomes/pyvenv/lib/python3.11/site-packages/pandas/core/indexes/base.py:3802\u001b[39m, in \u001b[36mIndex.get_loc\u001b[39m\u001b[34m(self, key, method, tolerance)\u001b[39m\n\u001b[32m   3801\u001b[39m \u001b[38;5;28;01mtry\u001b[39;00m:\n\u001b[32m-> \u001b[39m\u001b[32m3802\u001b[39m     \u001b[38;5;28;01mreturn\u001b[39;00m \u001b[38;5;28;43mself\u001b[39;49m\u001b[43m.\u001b[49m\u001b[43m_engine\u001b[49m\u001b[43m.\u001b[49m\u001b[43mget_loc\u001b[49m\u001b[43m(\u001b[49m\u001b[43mcasted_key\u001b[49m\u001b[43m)\u001b[49m\n\u001b[32m   3803\u001b[39m \u001b[38;5;28;01mexcept\u001b[39;00m \u001b[38;5;167;01mKeyError\u001b[39;00m \u001b[38;5;28;01mas\u001b[39;00m err:\n",
      "\u001b[36mFile \u001b[39m\u001b[32m~/Github/Shelter-Animal-Outcomes/pyvenv/lib/python3.11/site-packages/pandas/_libs/index.pyx:138\u001b[39m, in \u001b[36mpandas._libs.index.IndexEngine.get_loc\u001b[39m\u001b[34m()\u001b[39m\n",
      "\u001b[36mFile \u001b[39m\u001b[32m~/Github/Shelter-Animal-Outcomes/pyvenv/lib/python3.11/site-packages/pandas/_libs/index.pyx:165\u001b[39m, in \u001b[36mpandas._libs.index.IndexEngine.get_loc\u001b[39m\u001b[34m()\u001b[39m\n",
      "\u001b[36mFile \u001b[39m\u001b[32mpandas/_libs/hashtable_class_helper.pxi:5745\u001b[39m, in \u001b[36mpandas._libs.hashtable.PyObjectHashTable.get_item\u001b[39m\u001b[34m()\u001b[39m\n",
      "\u001b[36mFile \u001b[39m\u001b[32mpandas/_libs/hashtable_class_helper.pxi:5753\u001b[39m, in \u001b[36mpandas._libs.hashtable.PyObjectHashTable.get_item\u001b[39m\u001b[34m()\u001b[39m\n",
      "\u001b[31mKeyError\u001b[39m: 'Animal ID'",
      "\nThe above exception was the direct cause of the following exception:\n",
      "\u001b[31mKeyError\u001b[39m                                  Traceback (most recent call last)",
      "\u001b[36mCell\u001b[39m\u001b[36m \u001b[39m\u001b[32mIn[2]\u001b[39m\u001b[32m, line 12\u001b[39m\n\u001b[32m      4\u001b[39m processed_df, animal_data, breed, breed_mix, coat_color, coat_patterns = data_processing.process_data(\n\u001b[32m      5\u001b[39m     raw_data_path=\u001b[33mr\u001b[39m\u001b[33m\"\u001b[39m\u001b[33m/Users/wrngnfreeman/Github/Shelter-Animal-Outcomes/data/Austin_Animal_Center_Outcomes_20250318.csv\u001b[39m\u001b[33m\"\u001b[39m,\n\u001b[32m      6\u001b[39m     AnimalID=AnimalID,\n\u001b[32m      7\u001b[39m     dep_var=\u001b[33mr\u001b[39m\u001b[33m\"\u001b[39m\u001b[33mOutcome Type\u001b[39m\u001b[33m\"\u001b[39m\n\u001b[32m      8\u001b[39m )\n\u001b[32m     10\u001b[39m \u001b[38;5;66;03m# Display the few rows of the dataset\u001b[39;00m\n\u001b[32m     11\u001b[39m processed_df.loc[\n\u001b[32m---> \u001b[39m\u001b[32m12\u001b[39m     \u001b[43mprocessed_df\u001b[49m\u001b[43m[\u001b[49m\u001b[43mAnimalID\u001b[49m\u001b[43m]\u001b[49m.isin(random.sample(processed_df[AnimalID].unique().tolist(), \u001b[32m5\u001b[39m)),\n\u001b[32m     13\u001b[39m     :\n\u001b[32m     14\u001b[39m ].drop(columns=\u001b[33m\"\u001b[39m\u001b[33mBreedType\u001b[39m\u001b[33m\"\u001b[39m).rename(columns={\u001b[33m\"\u001b[39m\u001b[33mBreed_broken\u001b[39m\u001b[33m\"\u001b[39m: \u001b[33m\"\u001b[39m\u001b[33mBreed\u001b[39m\u001b[33m\"\u001b[39m})\n",
      "\u001b[36mFile \u001b[39m\u001b[32m~/Github/Shelter-Animal-Outcomes/pyvenv/lib/python3.11/site-packages/pandas/core/frame.py:3807\u001b[39m, in \u001b[36mDataFrame.__getitem__\u001b[39m\u001b[34m(self, key)\u001b[39m\n\u001b[32m   3805\u001b[39m \u001b[38;5;28;01mif\u001b[39;00m \u001b[38;5;28mself\u001b[39m.columns.nlevels > \u001b[32m1\u001b[39m:\n\u001b[32m   3806\u001b[39m     \u001b[38;5;28;01mreturn\u001b[39;00m \u001b[38;5;28mself\u001b[39m._getitem_multilevel(key)\n\u001b[32m-> \u001b[39m\u001b[32m3807\u001b[39m indexer = \u001b[38;5;28;43mself\u001b[39;49m\u001b[43m.\u001b[49m\u001b[43mcolumns\u001b[49m\u001b[43m.\u001b[49m\u001b[43mget_loc\u001b[49m\u001b[43m(\u001b[49m\u001b[43mkey\u001b[49m\u001b[43m)\u001b[49m\n\u001b[32m   3808\u001b[39m \u001b[38;5;28;01mif\u001b[39;00m is_integer(indexer):\n\u001b[32m   3809\u001b[39m     indexer = [indexer]\n",
      "\u001b[36mFile \u001b[39m\u001b[32m~/Github/Shelter-Animal-Outcomes/pyvenv/lib/python3.11/site-packages/pandas/core/indexes/base.py:3804\u001b[39m, in \u001b[36mIndex.get_loc\u001b[39m\u001b[34m(self, key, method, tolerance)\u001b[39m\n\u001b[32m   3802\u001b[39m     \u001b[38;5;28;01mreturn\u001b[39;00m \u001b[38;5;28mself\u001b[39m._engine.get_loc(casted_key)\n\u001b[32m   3803\u001b[39m \u001b[38;5;28;01mexcept\u001b[39;00m \u001b[38;5;167;01mKeyError\u001b[39;00m \u001b[38;5;28;01mas\u001b[39;00m err:\n\u001b[32m-> \u001b[39m\u001b[32m3804\u001b[39m     \u001b[38;5;28;01mraise\u001b[39;00m \u001b[38;5;167;01mKeyError\u001b[39;00m(key) \u001b[38;5;28;01mfrom\u001b[39;00m\u001b[38;5;250m \u001b[39m\u001b[34;01merr\u001b[39;00m\n\u001b[32m   3805\u001b[39m \u001b[38;5;28;01mexcept\u001b[39;00m \u001b[38;5;167;01mTypeError\u001b[39;00m:\n\u001b[32m   3806\u001b[39m     \u001b[38;5;66;03m# If we have a listlike key, _check_indexing_error will raise\u001b[39;00m\n\u001b[32m   3807\u001b[39m     \u001b[38;5;66;03m#  InvalidIndexError. Otherwise we fall through and re-raise\u001b[39;00m\n\u001b[32m   3808\u001b[39m     \u001b[38;5;66;03m#  the TypeError.\u001b[39;00m\n\u001b[32m   3809\u001b[39m     \u001b[38;5;28mself\u001b[39m._check_indexing_error(key)\n",
      "\u001b[31mKeyError\u001b[39m: 'Animal ID'"
     ]
    }
   ],
   "source": [
    "AnimalID=r\"Animal ID\"\n",
    "\n",
    "# Load and process the dataset\n",
    "processed_df, animal_data, breed, breed_mix, coat_color, coat_patterns = data_processing.process_data(\n",
    "    raw_data_path=r\"/Users/wrngnfreeman/Github/Shelter-Animal-Outcomes/data/Austin_Animal_Center_Outcomes_20250318.csv\",\n",
    "    AnimalID=AnimalID,\n",
    "    dep_var=r\"Outcome Type\"\n",
    ")\n",
    "\n",
    "# Display the few rows of the dataset\n",
    "processed_df.loc[\n",
    "    processed_df[AnimalID].isin(random.sample(processed_df[AnimalID].unique().tolist(), 5)),\n",
    "    :\n",
    "].drop(columns=\"BreedType\").rename(columns={\"Breed_broken\": \"Breed\"})"
   ]
  },
  {
   "cell_type": "markdown",
   "metadata": {},
   "source": [
    "## Visualizations"
   ]
  },
  {
   "cell_type": "markdown",
   "metadata": {},
   "source": [
    "### Distribution of the dependent variable \"OutcomeType\""
   ]
  },
  {
   "cell_type": "code",
   "execution_count": null,
   "metadata": {
    "collapsed": false
   },
   "outputs": [],
   "source": [
    "viz.viz_outcometype(\n",
    "    home_dir=home_dir,\n",
    "    processed_df=animal_data,\n",
    "    chart_title='Distribution of OutcomeType')"
   ]
  },
  {
   "cell_type": "markdown",
   "metadata": {},
   "source": [
    "### Distribution of AnimalType"
   ]
  },
  {
   "cell_type": "code",
   "execution_count": null,
   "metadata": {
    "collapsed": false
   },
   "outputs": [],
   "source": [
    "viz.viz_animal_type(\n",
    "    home_dir=home_dir,\n",
    "    processed_df=animal_data,\n",
    "    chart_title1='Shelter has twice the number of Dogs than Cats',\n",
    "    chart_title2='Cats are more likely to be transferred than dogs. While dogs are more likely to be returned to owner than cats.')"
   ]
  },
  {
   "cell_type": "markdown",
   "metadata": {},
   "source": [
    "### How does Age determine the outcome of an animal?"
   ]
  },
  {
   "cell_type": "code",
   "execution_count": null,
   "metadata": {
    "collapsed": false
   },
   "outputs": [],
   "source": [
    "viz.viz_age(\n",
    "    home_dir=home_dir,\n",
    "    processed_df=animal_data,\n",
    "    chart_title='Significant number of animals between age 1 week and 6 months are transfered')"
   ]
  },
  {
   "cell_type": "markdown",
   "metadata": {},
   "source": [
    "### How does sex determine the outcome of an animal?"
   ]
  },
  {
   "cell_type": "code",
   "execution_count": null,
   "metadata": {},
   "outputs": [],
   "source": [
    "viz.viz_sex(\n",
    "    home_dir=home_dir,\n",
    "    processed_df=animal_data,\n",
    "    chart_title='Males seem to have a higher chance of being Returned to owner\",\\nwhile Females are more likely to be adopted.')"
   ]
  },
  {
   "cell_type": "markdown",
   "metadata": {},
   "source": [
    "### How does Sterilization determine the outcome of an animal?"
   ]
  },
  {
   "cell_type": "code",
   "execution_count": null,
   "metadata": {},
   "outputs": [],
   "source": [
    "viz.viz_sterilization(\n",
    "    home_dir=home_dir,\n",
    "    processed_df=animal_data,\n",
    "    chart_title='Sterilization status has a significant impact on OutcomeType.')"
   ]
  },
  {
   "cell_type": "markdown",
   "metadata": {},
   "source": [
    "### What breeds do we have in the shelter?"
   ]
  },
  {
   "cell_type": "code",
   "execution_count": null,
   "metadata": {},
   "outputs": [],
   "source": [
    "viz.viz_breed(\n",
    "    home_dir=home_dir,\n",
    "    processed_df=pd.merge(\n",
    "        left=animal_data,\n",
    "        right=breed,\n",
    "        left_on=AnimalID,\n",
    "        right_on=AnimalID,\n",
    "        how='left'\n",
    "    ),\n",
    "    top_n=5,\n",
    "    chart_title='Most cats are Domestic Shorthairs. But we see variety in dog breeds.'\n",
    ")"
   ]
  },
  {
   "cell_type": "markdown",
   "metadata": {},
   "source": [
    "### How does being a pure breed or mixed breed animal determine the outcome of that animal?"
   ]
  },
  {
   "cell_type": "code",
   "execution_count": null,
   "metadata": {},
   "outputs": [],
   "source": [
    "viz.viz_breed_mix(\n",
    "    home_dir=home_dir,\n",
    "    processed_df=pd.merge(\n",
    "        left=animal_data,\n",
    "        right=breed_mix,\n",
    "        left_on=AnimalID,\n",
    "        right_on=AnimalID,\n",
    "        how='left'\n",
    "    ),\n",
    "    chart_title1='Most animals in the shelter are mixed breed animals',\n",
    "    chart_title2='Mixed breeds are more likely to be returned to owner. While pure breed animals are more likely to be adopted.'\n",
    ")"
   ]
  },
  {
   "cell_type": "markdown",
   "metadata": {},
   "source": [
    "### What colored animals do we have in the shelter?"
   ]
  },
  {
   "cell_type": "code",
   "execution_count": null,
   "metadata": {},
   "outputs": [],
   "source": [
    "viz.viz_coatcolor(\n",
    "    home_dir=home_dir,\n",
    "    processed_df=pd.merge(\n",
    "        left=animal_data,\n",
    "        right=coat_color,\n",
    "        left_on=AnimalID,\n",
    "        right_on=AnimalID,\n",
    "        how='left'\n",
    "    ),\n",
    "    top_n=5,\n",
    "    chart_title='White, Black, and Brown are most common coat colors for both Cats and Dogs.'\n",
    ")"
   ]
  },
  {
   "cell_type": "markdown",
   "metadata": {},
   "source": [
    "### What coat patterns do the animals have in the shelter?"
   ]
  },
  {
   "cell_type": "code",
   "execution_count": null,
   "metadata": {},
   "outputs": [],
   "source": [
    "viz.viz_coatpattern(\n",
    "    home_dir=home_dir,\n",
    "    processed_df=pd.merge(\n",
    "        left=animal_data,\n",
    "        right=coat_patterns,\n",
    "        left_on=AnimalID,\n",
    "        right_on=AnimalID,\n",
    "        how='left'\n",
    "    ),\n",
    "    top_n=5,\n",
    "    chart_title='Most cats are Tabby, while most dogs have Brindle pattern coats.'\n",
    ")"
   ]
  },
  {
   "cell_type": "markdown",
   "metadata": {},
   "source": [
    "## Conclusion\n",
    "\n",
    "This exploratory analysis provides insights into the distribution of the dependent variable \"OutcomeType\", and other factors that effect animal's outcome at the shelter. Results from a machine learning model is expected to be in-line with these findings.\n",
    "\n",
    "Explore our interactive Tableau Dashboard to delve deeper into the dataset. This tool provides a user-friendly interface for detailed analysis.\n",
    "\n",
    "[Interactive Tableau Dashboard (link 1)](https://public.tableau.com/views/InteractivePetManagementDashboard/Dashboard1?:language=en-US&:sid=&:redirect=auth&:display_count=n&:origin=viz_share_link) <br>\n",
    "[Interactive Tableau Dashboard (link 2)](https://public.tableau.com/views/InteractivePetManagementDashboard_17435387085530/Dashboard1?:language=en-US&:sid=&:redirect=auth&:display_count=n&:origin=viz_share_link)"
   ]
  }
 ],
 "metadata": {
  "kernelspec": {
   "display_name": "pyvenv",
   "language": "python",
   "name": "python3"
  },
  "language_info": {
   "codemirror_mode": {
    "name": "ipython",
    "version": 3
   },
   "file_extension": ".py",
   "mimetype": "text/x-python",
   "name": "python",
   "nbconvert_exporter": "python",
   "pygments_lexer": "ipython3",
   "version": "3.11.9"
  }
 },
 "nbformat": 4,
 "nbformat_minor": 4
}
