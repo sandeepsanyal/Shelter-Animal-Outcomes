{
 "cells": [
  {
   "cell_type": "markdown",
   "metadata": {},
   "source": [
    "<h2>Enter your computer's home firectory</h2>"
   ]
  },
  {
   "cell_type": "code",
   "execution_count": 1,
   "metadata": {},
   "outputs": [],
   "source": [
    "home_dir = r\"/Users/wrngnfreeman/Github/Shelter-Animal-Outcomes-by-kaggle.com\""
   ]
  },
  {
   "cell_type": "markdown",
   "metadata": {},
   "source": [
    "<h2>Importing required modules</h2>"
   ]
  },
  {
   "cell_type": "code",
   "execution_count": 2,
   "metadata": {},
   "outputs": [],
   "source": [
    "import sys\n",
    "sys.path.append(home_dir + r\"/src\")\n",
    "import data_processing, model_training"
   ]
  },
  {
   "cell_type": "markdown",
   "metadata": {},
   "source": [
    "<h2>Data preparation</h2>\n",
    "\n",
    "1. **Age**: Cleans the `AgeuponOutcome` column, converts age to days, and groups ages into categories.\n",
    "2. **Sex**: Cleans the `SexuponOutcome` column by removing unwanted spaces and unknown values, then splits it into two columns for detailed categorization.\n",
    "3. **Breed**:\n",
    "    1. Standardizes text in the `Breed` column using regular expressions to handle spaces, unknowns, and specific terms.\n",
    "    2. Splits breeds containing 'Mix', creating a new `Mix` column indicating mixed breed status.\n",
    "    3. Separates multiple breeds listed in the same entry of the `Breed` column into individual rows.\n",
    "    4. Maps each breed to its respective type (e.g., Terrier, Working) using a predefined dictionary and assigns an `nan` category if no match is found.\n",
    "    5. Calculates the frequency of each animal's occurrence and updates the `Mix` status based on these counts.\n",
    "    6. Ensures that breeds are properly categorized and mixed status is accurately reflected across all related DataFrames.\n",
    "4. **Coat**:\n",
    "    1. Coat Color Standardization: Adjusts the `Color` attribute according to the `AnimalType` ('Dog', 'Cat') for consistency in color naming.\n",
    "    2. Pattern Extraction: Identifies and extracts coat patterns from colors.\n",
    "    3. Pattern Removal: Strips out recognized pattern indicators from the `Color` string.\n",
    "    4. Data Merging: Combines the original data with processed color information into `coat_color`.\n",
    "    5. List Separation: Separates multiple colors listed in the same entry of the `Color` column into individual rows."
   ]
  },
  {
   "cell_type": "markdown",
   "metadata": {},
   "source": [
    "<h3>The train dataset</h3>"
   ]
  },
  {
   "cell_type": "code",
   "execution_count": 3,
   "metadata": {},
   "outputs": [
    {
     "name": "stdout",
     "output_type": "stream",
     "text": [
      "Age information processed in: 0.16 seconds\n",
      "Sex information processed in: 0.35 seconds\n",
      "Breed information processed in: 2.46 seconds\n",
      "Coat information processed in: 20.37 seconds\n"
     ]
    },
    {
     "ename": "",
     "evalue": "",
     "output_type": "error",
     "traceback": [
      "\u001b[1;31mThe Kernel crashed while executing code in the current cell or a previous cell. \n",
      "\u001b[1;31mPlease review the code in the cell(s) to identify a possible cause of the failure. \n",
      "\u001b[1;31mClick <a href='https://aka.ms/vscodeJupyterKernelCrash'>here</a> for more info. \n",
      "\u001b[1;31mView Jupyter <a href='command:jupyter.viewOutput'>log</a> for further details."
     ]
    }
   ],
   "source": [
    "train_df = data_processing.process_data(\n",
    "    home_dir=home_dir,\n",
    "    data_file=r\"Austin_Animal_Center_Outcomes_20250318\",\n",
    "    AnimalID=r\"AnimalID\",\n",
    "    dep_var=r\"OutcomeType\"\n",
    ")\n",
    "display(train_df)"
   ]
  },
  {
   "cell_type": "markdown",
   "metadata": {},
   "source": [
    "<h3>The scoring dataset</h3>"
   ]
  },
  {
   "cell_type": "code",
   "execution_count": null,
   "metadata": {},
   "outputs": [],
   "source": [
    "test_df = data_processing.process_data(\n",
    "    home_dir=home_dir,\n",
    "    data_file=r\"test\",\n",
    "    AnimalID=r\"ID\"\n",
    ")\n",
    "display(test_df)"
   ]
  },
  {
   "cell_type": "markdown",
   "metadata": {},
   "source": [
    "<h2>Model training</h2>"
   ]
  },
  {
   "cell_type": "markdown",
   "metadata": {},
   "source": [
    "<h3>Random Forest Model</h3>"
   ]
  },
  {
   "cell_type": "code",
   "execution_count": null,
   "metadata": {},
   "outputs": [],
   "source": [
    "export_model_path = home_dir + r\"/pickle_files/rf_model(2).pkl\"\n",
    "\n",
    "rf_model = model_training.train_model(\n",
    "    home_dir=home_dir,\n",
    "    data_file=r\"Austin_Animal_Center_Outcomes_20250318\",\n",
    "    AnimalID=r\"AnimalID\",\n",
    "    dep_var=r'OutcomeType',\n",
    "    export_model_path=export_model_path\n",
    ")"
   ]
  },
  {
   "cell_type": "code",
   "execution_count": null,
   "metadata": {},
   "outputs": [],
   "source": []
  }
 ],
 "metadata": {
  "kernelspec": {
   "display_name": "Python 3",
   "language": "python",
   "name": "python3"
  },
  "language_info": {
   "codemirror_mode": {
    "name": "ipython",
    "version": 3
   },
   "file_extension": ".py",
   "mimetype": "text/x-python",
   "name": "python",
   "nbconvert_exporter": "python",
   "pygments_lexer": "ipython3",
   "version": "3.11.9"
  }
 },
 "nbformat": 4,
 "nbformat_minor": 4
}
